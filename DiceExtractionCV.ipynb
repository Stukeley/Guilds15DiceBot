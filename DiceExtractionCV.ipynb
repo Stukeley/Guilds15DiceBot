{
 "cells": [
  {
   "cell_type": "code",
   "execution_count": 6,
   "id": "initial_id",
   "metadata": {
    "collapsed": true,
    "ExecuteTime": {
     "end_time": "2024-03-25T18:41:24.329662Z",
     "start_time": "2024-03-25T18:41:24.328216Z"
    }
   },
   "outputs": [],
   "source": [
    "import cv2\n",
    "import numpy as np\n",
    "from matplotlib import pyplot as plt\n",
    "from enum import Enum\n",
    "\n",
    "class Resolution(Enum):\n",
    "    P1080 = 1080,\n",
    "    P1440 = 1440\n",
    "\n",
    "\n",
    "def process_image(path, resolution=Resolution.P1080):\n",
    "    image = cv2.imread(path)\n",
    "    image = cv2.cvtColor(image, cv2.COLOR_BGR2GRAY)\n",
    "    \n",
    "    sub_images = []\n",
    "    \n",
    "    if resolution == Resolution.P1080:\n",
    "        cropped_image = image[200:400, 775:975]\n",
    "\n",
    "        for y_start in [0, 120]:\n",
    "            for x_start in [0, 135]:\n",
    "                # First crop, get entire dice with circle around it\n",
    "                sub_image = cropped_image[y_start:y_start+75, x_start:x_start+75]\n",
    "                sub_image = cv2.resize(sub_image, (100, 100))\n",
    "                # Second crop, remove circle around dice\n",
    "                sub_image = sub_image[20:80, 20:80]\n",
    "                sub_images.append(sub_image)\n",
    "    elif resolution == Resolution.P1440:\n",
    "        # Pozycje kości w 1440p:\n",
    "        # 1050:1110, 290:345\n",
    "        # 1050:1110, 447:504\n",
    "        # 1228:1292, 290:345\n",
    "        # 1228:1292, 447:504\n",
    "        for y_start in [290, 448]:\n",
    "            for x_start in [1050, 1230]:\n",
    "                sub_image = image[y_start:y_start+57, x_start:x_start+62]\n",
    "                sub_image = cv2.resize(sub_image, (100, 100))\n",
    "                sub_images.append(sub_image)\n",
    "    \n",
    "    return sub_images"
   ]
  },
  {
   "cell_type": "code",
   "execution_count": 7,
   "outputs": [],
   "source": [
    "def threshold_image(gray):\n",
    "    threshed = cv2.threshold(gray, 0, 255, cv2.THRESH_BINARY_INV + cv2.THRESH_OTSU)[1]\n",
    "\n",
    "    return threshed"
   ],
   "metadata": {
    "collapsed": false,
    "ExecuteTime": {
     "end_time": "2024-03-25T18:41:24.337796Z",
     "start_time": "2024-03-25T18:41:24.330885Z"
    }
   },
   "id": "93b9d14d65ef3459"
  },
  {
   "cell_type": "code",
   "execution_count": 8,
   "outputs": [],
   "source": [
    "def count_dots_v2(threshed, image):\n",
    "    cnts = cv2.findContours(threshed, cv2.RETR_EXTERNAL, cv2.CHAIN_APPROX_SIMPLE)\n",
    "    cnts = cnts[0] if len(cnts) == 2 else cnts[1]\n",
    "    for c in cnts:\n",
    "        area = cv2.contourArea(c)\n",
    "        if area < 500:\n",
    "            cv2.drawContours(image, [c], -1, (0, 255, 0), 2)\n",
    "\n",
    "    kernel = cv2.getStructuringElement(cv2.MORPH_ELLIPSE, (3,3))\n",
    "    opening = cv2.morphologyEx(threshed, cv2.MORPH_OPEN, kernel, iterations=3)\n",
    "    \n",
    "    # Find circles \n",
    "    cnts = cv2.findContours(opening, cv2.RETR_EXTERNAL, cv2.CHAIN_APPROX_SIMPLE)\n",
    "    cnts = cnts[0] if len(cnts) == 2 else cnts[1]\n",
    "    for c in cnts:\n",
    "        area = cv2.contourArea(c)\n",
    "        if area > 20 and area < 50:\n",
    "            ((x, y), r) = cv2.minEnclosingCircle(c)\n",
    "            cv2.circle(image, (int(x), int(y)), int(r), (36, 255, 12), 2)\n",
    "            \n",
    "    rand = np.random.randint(0, 1000)\n",
    "    cv2.imwrite(f\"out/circles{rand}.png\", image)\n",
    "    \n",
    "    return len(cnts)"
   ],
   "metadata": {
    "collapsed": false,
    "ExecuteTime": {
     "end_time": "2024-03-25T18:41:24.345028Z",
     "start_time": "2024-03-25T18:41:24.339578Z"
    }
   },
   "id": "7e2b77f0664dcdbe"
  },
  {
   "cell_type": "code",
   "execution_count": 9,
   "outputs": [
    {
     "name": "stdout",
     "output_type": "stream",
     "text": [
      "Enemy dices: 10\n",
      "Player dices: 8\n"
     ]
    },
    {
     "data": {
      "text/plain": "<Figure size 640x480 with 4 Axes>",
      "image/png": "[encoded data removed]"
     },
     "metadata": {},
     "output_type": "display_data"
    }
   ],
   "source": [
    "resolution = Resolution.P1080   # Config\n",
    "dices = process_image(\"data/ref_loss.png\", resolution)\n",
    "enemy_dices = 0\n",
    "player_dices = 0\n",
    "\n",
    "for i in range(2):\n",
    "    thresh = threshold_image(dices[i])\n",
    "    plt.subplot(1,4,i+1)\n",
    "    plt.imshow(thresh, cmap='binary')\n",
    "    dots = count_dots_v2(thresh, dices[i])\n",
    "    enemy_dices += dots\n",
    "\n",
    "for i in range(2, 4):\n",
    "    thresh = threshold_image(dices[i])\n",
    "    plt.subplot(1,4,i+1)\n",
    "    plt.imshow(thresh, cmap='binary')\n",
    "    dots = count_dots_v2(thresh, dices[i])\n",
    "    player_dices += dots\n",
    "\n",
    "print(\"Enemy dices:\", enemy_dices)\n",
    "print(\"Player dices:\", player_dices)"
   ],
   "metadata": {
    "collapsed": false,
    "ExecuteTime": {
     "end_time": "2024-03-25T18:41:24.517198Z",
     "start_time": "2024-03-25T18:41:24.345369Z"
    }
   },
   "id": "d2c321cb07c50405"
  },
  {
   "cell_type": "code",
   "execution_count": 10,
   "outputs": [
    {
     "name": "stdout",
     "output_type": "stream",
     "text": [
      "Enemy dices: 7\n",
      "Player dices: 4\n"
     ]
    },
    {
     "data": {
      "text/plain": "<Figure size 640x480 with 4 Axes>",
      "image/png": "[encoded data removed]"
     },
     "metadata": {},
     "output_type": "display_data"
    }
   ],
   "source": [
    "resolution = Resolution.P1440   # Config\n",
    "dices = process_image(\"data/massfun.png\", resolution)\n",
    "enemy_dices = 0\n",
    "player_dices = 0\n",
    "\n",
    "for i in range(2):\n",
    "    thresh = threshold_image(dices[i])\n",
    "    plt.subplot(1,4,i+1)\n",
    "    plt.imshow(thresh, cmap='binary')\n",
    "    dots = count_dots_v2(thresh, dices[i])\n",
    "    enemy_dices += dots\n",
    "\n",
    "for i in range(2, 4):\n",
    "    thresh = threshold_image(dices[i])\n",
    "    plt.subplot(1,4,i+1)\n",
    "    plt.imshow(thresh, cmap='binary')\n",
    "    dots = count_dots_v2(thresh, dices[i])\n",
    "    player_dices += dots\n",
    "\n",
    "print(\"Enemy dices:\", enemy_dices)\n",
    "print(\"Player dices:\", player_dices)"
   ],
   "metadata": {
    "collapsed": false,
    "ExecuteTime": {
     "end_time": "2024-03-25T18:41:24.692279Z",
     "start_time": "2024-03-25T18:41:24.519723Z"
    }
   },
   "id": "428c3fa5c949b0e4"
  }
 ],
 "metadata": {
  "kernelspec": {
   "display_name": "Python 3",
   "language": "python",
   "name": "python3"
  },
  "language_info": {
   "codemirror_mode": {
    "name": "ipython",
    "version": 2
   },
   "file_extension": ".py",
   "mimetype": "text/x-python",
   "name": "python",
   "nbconvert_exporter": "python",
   "pygments_lexer": "ipython2",
   "version": "2.7.6"
  }
 },
 "nbformat": 4,
 "nbformat_minor": 5
}
