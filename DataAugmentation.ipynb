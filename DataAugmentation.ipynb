{
 "cells": [
  {
   "cell_type": "code",
   "execution_count": 27,
   "id": "initial_id",
   "metadata": {
    "collapsed": true,
    "ExecuteTime": {
     "end_time": "2024-03-23T20:12:07.826977Z",
     "start_time": "2024-03-23T20:12:07.825428Z"
    }
   },
   "outputs": [],
   "source": [
    "import os\n",
    "import numpy as np\n",
    "from PIL import Image, ImageEnhance\n",
    "\n",
    "np.random.seed(61185)\n",
    "\n",
    "# Function to load an image from file\n",
    "def load_image(file_path):\n",
    "    return Image.open(file_path)\n",
    "\n",
    "# Function to save an image to file\n",
    "def save_image(image, file_path):\n",
    "    image.save(file_path)"
   ]
  },
  {
   "cell_type": "code",
   "execution_count": 28,
   "outputs": [],
   "source": [
    "# Function to generate images with different sizes\n",
    "def generate_resized_images(image, category, output_dir, sizes):\n",
    "    os.makedirs(output_dir, exist_ok=True)\n",
    "    for size in sizes:\n",
    "        resized_image = image.resize((size, size))\n",
    "        save_image(resized_image, os.path.join(output_dir, f\"{category}_resized_{size}.png\"))"
   ],
   "metadata": {
    "collapsed": false,
    "ExecuteTime": {
     "end_time": "2024-03-23T20:12:07.830150Z",
     "start_time": "2024-03-23T20:12:07.828466Z"
    }
   },
   "id": "6375e64c22b50330"
  },
  {
   "cell_type": "code",
   "execution_count": 29,
   "outputs": [],
   "source": [
    "# Function to generate images with different brightness levels\n",
    "def generate_brightened_images(image, category, output_dir, brightness_factors):\n",
    "    os.makedirs(output_dir, exist_ok=True)\n",
    "    for factor in brightness_factors:\n",
    "        enhancer = ImageEnhance.Brightness(image)\n",
    "        brightened_image = enhancer.enhance(factor)\n",
    "        save_image(brightened_image, os.path.join(output_dir, f\"{category}_brightened_{factor}.png\"))"
   ],
   "metadata": {
    "collapsed": false,
    "ExecuteTime": {
     "end_time": "2024-03-23T20:12:07.833487Z",
     "start_time": "2024-03-23T20:12:07.831597Z"
    }
   },
   "id": "f2fdd23f3c57fc93"
  },
  {
   "cell_type": "code",
   "execution_count": 30,
   "outputs": [],
   "source": [
    "def add_noise(image, category, output_dir, noise_factors):\n",
    "    os.makedirs(output_dir, exist_ok=True)\n",
    "    img_array = np.array(image)\n",
    "    for factor in noise_factors:\n",
    "        noise = np.random.normal(scale=factor, size=img_array.shape).astype(np.uint8)\n",
    "        noisy_image = np.clip(img_array + noise, 0, 255).astype(np.uint8)\n",
    "        noisy_image = Image.fromarray(noisy_image)\n",
    "        save_image(noisy_image, os.path.join(output_dir, f\"{category}_noisy_{factor}.png\"))"
   ],
   "metadata": {
    "collapsed": false,
    "ExecuteTime": {
     "end_time": "2024-03-23T20:12:07.837094Z",
     "start_time": "2024-03-23T20:12:07.834958Z"
    }
   },
   "id": "ddbf489c03ecfaa8"
  },
  {
   "cell_type": "code",
   "execution_count": 31,
   "outputs": [],
   "source": [
    "data_dir = 'data/dices'\n",
    "output_dir = 'data/dices/generated_dices'\n",
    "sizes = []\n",
    "brightness_factors = []\n",
    "noise_factors = []\n",
    "\n",
    "for i in range(100):\n",
    "    sizes.append(np.random.randint(50, 150))\n",
    "    brightness_factors.append(np.random.uniform(0.8, 1.2))\n",
    "    noise_factors.append(np.random.uniform(0, 0.5))\n",
    "\n",
    "for filename in os.listdir(data_dir):\n",
    "    if filename.endswith('.png'):\n",
    "        file_path = os.path.join(data_dir, filename)\n",
    "        image = load_image(file_path)\n",
    "        category = filename[:-4]\n",
    "\n",
    "        # Generate resized images\n",
    "        generate_resized_images(image, category, os.path.join(output_dir, 'resized'), sizes)\n",
    "\n",
    "        # Generate brightened images\n",
    "        generate_brightened_images(image, category, os.path.join(output_dir, 'brightened'), brightness_factors)\n",
    "\n",
    "        # Apply additional transformations\n",
    "        add_noise(image, category, os.path.join(output_dir, 'additional'), noise_factors)"
   ],
   "metadata": {
    "collapsed": false,
    "ExecuteTime": {
     "end_time": "2024-03-23T20:12:15.967825Z",
     "start_time": "2024-03-23T20:12:07.840595Z"
    }
   },
   "id": "105d6b1c9fbd201b"
  }
 ],
 "metadata": {
  "kernelspec": {
   "display_name": "Python 3",
   "language": "python",
   "name": "python3"
  },
  "language_info": {
   "codemirror_mode": {
    "name": "ipython",
    "version": 2
   },
   "file_extension": ".py",
   "mimetype": "text/x-python",
   "name": "python",
   "nbconvert_exporter": "python",
   "pygments_lexer": "ipython2",
   "version": "2.7.6"
  }
 },
 "nbformat": 4,
 "nbformat_minor": 5
}
